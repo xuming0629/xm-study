{
 "cells": [
  {
   "cell_type": "markdown",
   "metadata": {},
   "source": [
    "散度定理："
   ]
  },
  {
   "cell_type": "markdown",
   "metadata": {},
   "source": [
    "（１）$\\int_U div \\overrightarrow{F}{\\mathrm d x}=\\int_{\\partial U} \\overrightarrow{F}\\overrightarrow{v}{\\mathrm d s}$\n",
    "\n",
    "(2)$div(D_u)=\\bigtriangleup u$\n",
    "\n",
    "(3)$div(u D_u)=D_u D_v +u \\bigtriangleup v $\n",
    "\n",
    "从而 $\\int_U(D_u D_v +u \\bigtriangleup v){\\mathrm d x}=\\int_U div(u D_u){\\mathrm d x}=\\int_{\\partial U}u D_v \\overrightarrow{v}{\\mathrm d s}=\\int_{\\partial U}u\\frac{\\partial v}{\\partial \\overrightarrow{v}}{\\mathrm d s}$"
   ]
  },
  {
   "cell_type": "code",
   "execution_count": null,
   "metadata": {
    "collapsed": true
   },
   "outputs": [],
   "source": []
  }
 ],
 "metadata": {
  "kernelspec": {
   "display_name": "SageMath 7.3",
   "language": "",
   "name": "sagemath"
  },
  "language_info": {
   "codemirror_mode": {
    "name": "ipython",
    "version": 2
   },
   "file_extension": ".py",
   "mimetype": "text/x-python",
   "name": "python",
   "nbconvert_exporter": "python",
   "pygments_lexer": "ipython2",
   "version": "2.7.10"
  }
 },
 "nbformat": 4,
 "nbformat_minor": 0
}
