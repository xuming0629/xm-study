{
 "cells": [
  {
   "cell_type": "markdown",
   "metadata": {},
   "source": [
    "二分法的基本思想是通过计算隔根区间的中点,逐步将隔根区间缩小, 从而可得到方程的近似根数列, 所谓的隔根区间,是指该区间有且只有方程 $f(x)=0$ 的一个根,具体的说, 设 $f(x)$ 为连续函数, 又设方程 的隔根区间为 $[a,b]$ 即 $f(a)f(b)<0$.记 $a_0=a,b_0=b$, 取其中点 $x_0=\\frac{a_0+b_0}{2}$,若 $f(a_0)f(x_0)<0$,则去掉右半区间，即令 \n",
    "\n",
    "$a_１=a_0,b_１=x_0$, 否则,去掉左半区间,即令 $a_1=x_0,b_1=b_0$ 一般地,记当前有根区间为 $[a_k,b_k]$,取\n",
    "\n",
    "$$\n",
    "x_k=\\frac{a_K+b_k}{2}\n",
    "$$\n",
    "\n",
    "若 $f(a_k)f(b_k)<0$,　则令 $a_{k+1}＝a_k$,$b_{k+1}＝x_k$,否则，令 $a_{k+1}＝x_k$,$b_｛k+1｝＝b_k$;再取$x_k=\\frac{a_{k_1}+b_{k+1}}{2}$,一直做下去，直到满足精度为止.\n"
   ]
  },
  {
   "cell_type": "markdown",
   "metadata": {},
   "source": [
    "### 算法："
   ]
  },
  {
   "cell_type": "markdown",
   "metadata": {},
   "source": [
    "１：确定隔根区间 $[a,b]$,设定精度要求为 $\\eta$\n",
    "\n",
    "2:置$x=\\frac{a+b}{2}$\n",
    "\n",
    "3:若 $f(x)=0$, 输出 $x$, 停算：否则转第4步:\n",
    "\n",
    "4:若 $f(a)f(x)<0$, 则置$b=x$ :否则，置 $a=x$:\n",
    "\n",
    "5:置 $x=\\frac{a+b}{2}$,若 $|b-a|<\\eta$, 输出 $x$, 停算：否则转第3步:"
   ]
  },
  {
   "cell_type": "code",
   "execution_count": null,
   "metadata": {
    "collapsed": true
   },
   "outputs": [],
   "source": []
  }
 ],
 "metadata": {
  "kernelspec": {
   "display_name": "SageMath 7.3",
   "language": "",
   "name": "sagemath"
  },
  "language_info": {
   "codemirror_mode": {
    "name": "ipython",
    "version": 2
   },
   "file_extension": ".py",
   "mimetype": "text/x-python",
   "name": "python",
   "nbconvert_exporter": "python",
   "pygments_lexer": "ipython2",
   "version": "2.7.10"
  }
 },
 "nbformat": 4,
 "nbformat_minor": 0
}
