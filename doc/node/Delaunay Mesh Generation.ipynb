{
 "cells": [
  {
   "cell_type": "markdown",
   "metadata": {},
   "source": [
    "finte element method  　有限元方法\n",
    "\n",
    "numerical 　method 数值方法\n",
    "\n",
    "approximating solutions 近似解\n",
    "\n",
    "finite volument method 有限体积方法\n",
    "\n",
    "boundary element method 边界元方法\n",
    "\n",
    "simulate 模拟\n",
    "\n",
    "strategies 策略\n",
    "\n",
    "aerodynamics 航天动力学\n",
    "\n",
    "generation 产生、生成\n",
    "\n",
    "essential 基本\n",
    "\n",
    "algorithm 算法\n",
    "\n",
    "triangles 三角形\n",
    "\n",
    "rectangles 四边形/长方形、矩形\n",
    "\n",
    "two-dimensional geometries 二维几何\n",
    "\n",
    "three-dimensional geometries 三维几何\n",
    "\n",
    "tetrahedra 四面体\n",
    "\n",
    "rectangular 六面体\n",
    "\n",
    "\n",
    "\n",
    "\n",
    "\n",
    "\n"
   ]
  },
  {
   "cell_type": "markdown",
   "metadata": {},
   "source": [
    "\n"
   ]
  },
  {
   "cell_type": "markdown",
   "metadata": {},
   "source": [
    "表头1 | 表头 2 \n",
    ":------ | ------:\n",
    " A  | B\n",
    " C  | D "
   ]
  },
  {
   "cell_type": "code",
   "execution_count": null,
   "metadata": {
    "collapsed": true
   },
   "outputs": [],
   "source": []
  }
 ],
 "metadata": {
  "kernelspec": {
   "display_name": "SageMath 7.3",
   "language": "",
   "name": "sagemath"
  },
  "language_info": {
   "codemirror_mode": {
    "name": "ipython",
    "version": 2
   },
   "file_extension": ".py",
   "mimetype": "text/x-python",
   "name": "python",
   "nbconvert_exporter": "python",
   "pygments_lexer": "ipython2",
   "version": "2.7.10"
  }
 },
 "nbformat": 4,
 "nbformat_minor": 0
}
