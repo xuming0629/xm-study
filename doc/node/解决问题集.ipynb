{
 "cells": [
  {
   "cell_type": "markdown",
   "metadata": {},
   "source": [
    "# 1、查找问题的根源;\n",
    "\n",
    "# 2、上网查，维基百科，谷歌等;\n",
    "\n",
    "# 3、找师兄帮忙;\n",
    "\n",
    "# 4、求助老师;"
   ]
  },
  {
   "cell_type": "markdown",
   "metadata": {},
   "source": [
    "# **git 的设置问题**"
   ]
  },
  {
   "cell_type": "markdown",
   "metadata": {},
   "source": [
    "* $git config --global user.name \"xuming\"\n",
    "\n",
    "* $git config --global user.email \"920972751@qq.com\"\n",
    "\n",
    "* $git config --global core.editor vim\n",
    "\n",
    "* $git config --global merge.tool vimdiff\n",
    "\n",
    "* $git config --global merge.conflictstyle diff3\n",
    "\n",
    "* $git config --global difftool.prompt false"
   ]
  },
  {
   "cell_type": "markdown",
   "metadata": {
    "collapsed": true
   },
   "source": [
    "# vim 的配置"
   ]
  },
  {
   "cell_type": "code",
   "execution_count": null,
   "metadata": {
    "collapsed": true
   },
   "outputs": [],
   "source": []
  }
 ],
 "metadata": {
  "kernelspec": {
   "display_name": "SageMath 7.3",
   "language": "",
   "name": "sagemath"
  },
  "language_info": {
   "codemirror_mode": {
    "name": "ipython",
    "version": 2
   },
   "file_extension": ".py",
   "mimetype": "text/x-python",
   "name": "python",
   "nbconvert_exporter": "python",
   "pygments_lexer": "ipython2",
   "version": "2.7.10"
  }
 },
 "nbformat": 4,
 "nbformat_minor": 0
}
