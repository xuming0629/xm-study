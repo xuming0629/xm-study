{
 "cells": [
  {
   "cell_type": "markdown",
   "metadata": {},
   "source": [
    "## 一般曲面上的自洽场的自组装理论"
   ]
  },
  {
   "cell_type": "markdown",
   "metadata": {},
   "source": [
    "考虑 $n$ 条高分子链由 $A$ 和 $B$ 两类单体（也称为链段）构成的二嵌段共聚物, 聚合度为 $N$ 限制在总表面积为 $S$ 的曲面上."
   ]
  },
  {
   "cell_type": "markdown",
   "metadata": {},
   "source": [
    "## 自洽场模型"
   ]
  },
  {
   "cell_type": "markdown",
   "metadata": {},
   "source": [
    "### 符号说明"
   ]
  },
  {
   "cell_type": "markdown",
   "metadata": {},
   "source": [
    "|符号|意义|\n",
    "|:-----:|:-----:|\n",
    "|$n$|$n$ 条高分子链|\n",
    "|$N$|聚合度|\n"
   ]
  },
  {
   "cell_type": "markdown",
   "metadata": {},
   "source": [
    "**聚合度:** "
   ]
  },
  {
   "cell_type": "code",
   "execution_count": null,
   "metadata": {
    "collapsed": true
   },
   "outputs": [],
   "source": []
  }
 ],
 "metadata": {
  "kernelspec": {
   "display_name": "Python 3",
   "language": "python",
   "name": "python3"
  },
  "language_info": {
   "codemirror_mode": {
    "name": "ipython",
    "version": 3
   },
   "file_extension": ".py",
   "mimetype": "text/x-python",
   "name": "python",
   "nbconvert_exporter": "python",
   "pygments_lexer": "ipython3",
   "version": "3.5.2"
  }
 },
 "nbformat": 4,
 "nbformat_minor": 2
}
