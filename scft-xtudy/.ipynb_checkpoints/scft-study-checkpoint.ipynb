{
 "cells": [
  {
   "cell_type": "markdown",
   "metadata": {},
   "source": [
    "## 液晶共聚物\n",
    "\n",
    "软物质又称为复杂流体, 软物质包括高分子聚合物,液晶、胶体、表面活性剂、生物组织等复杂系统."
   ]
  },
  {
   "cell_type": "markdown",
   "metadata": {},
   "source": [
    "+ 软物质的两大特征\n",
    "    * 复杂性\n",
    "    * 柔性\n"
   ]
  },
  {
   "cell_type": "markdown",
   "metadata": {},
   "source": [
    "  高分子聚合物是由许多重复的小单元通过共价键结合在一起的长链化合物, 不论是天然的还是人工合成的, 都是由许多被称为单体结构聚合而成, **由于特别大的分子量导致了特殊的物理性质, 包括硬度、粘度, 以及形成玻璃态与近晶体态而不是晶体**  "
   ]
  },
  {
   "cell_type": "markdown",
   "metadata": {},
   "source": [
    "### 液晶高分子"
   ]
  },
  {
   "cell_type": "markdown",
   "metadata": {},
   "source": [
    "高分子介于固态与液态之间的一种状态"
   ]
  }
 ],
 "metadata": {
  "kernelspec": {
   "display_name": "Python 3",
   "language": "python",
   "name": "python3"
  },
  "language_info": {
   "codemirror_mode": {
    "name": "ipython",
    "version": 3
   },
   "file_extension": ".py",
   "mimetype": "text/x-python",
   "name": "python",
   "nbconvert_exporter": "python",
   "pygments_lexer": "ipython3",
   "version": "3.5.2"
  }
 },
 "nbformat": 4,
 "nbformat_minor": 2
}
