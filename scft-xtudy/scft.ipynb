{
 "cells": [
  {
   "cell_type": "markdown",
   "metadata": {},
   "source": [
    "## 一般曲面上的自洽场的自组装理论"
   ]
  },
  {
   "cell_type": "markdown",
   "metadata": {},
   "source": [
    "考虑 $n$ 个共聚物分子, 每个共聚物分子由 $A$ 和 $B$ 两类单体（也称为链段）构成的二嵌段共聚物, 每个分子的聚合度为 $N$ 限制在总表面积为 $S$ 的曲面上.粒子 $A$ 的聚合度为 $N_A$, 粒子 $B$ 的聚合度为 $N_B$, 则 $N = N_A+N_B$,   $A$ 嵌段的体积分数是 $f_A$, $\\chi N$ 是两种不同单体之间的 Flory-Huggins 相互作用系数.在平均场近似, 这个系统 $k_B T$ 的单位能自由密度可以表示为"
   ]
  },
  {
   "cell_type": "markdown",
   "metadata": {},
   "source": [
    "\\begin{equation}\n",
    "\\frac{F}{n k_B T} = \\frac{1}{S}\\int \\mathrm d{\\mathbf{s}}\\{-w_{+}(\\mathbf{s}+\\frac{w_{-}^2(\\mathbf{s})}{\\chi N})\\} - \\log Q [w_{+}(\\mathbf{s}),w_{-(\\mathbf{s})}]\n",
    "\\end{equation}"
   ]
  },
  {
   "cell_type": "markdown",
   "metadata": {},
   "source": [
    "在上述方程中, $\\chi$ 是描述 $A$ 和 $B$ 两粒子的相互作用的 Flory-Huggins 相互作用系数, 这里 $\\chi = \\chi_{AB}$. $A$ 和 $B$ 单体分别收到外场 $w_{A}$ 和 $w_{B}$ 的作用, $w_{-}$ 是系统对外场的压力, $w_{+}$ 是对应的交换交换化学势, \n",
    "\n",
    "$$\n",
    "w_{A} = i w_{+} -w_{-}\n",
    "$$\n",
    "\n",
    "$$\n",
    "w_{B} = i w_{+} +w_{-}\n",
    "$$\n",
    "\n",
    "$Q$ 是一条两嵌段高斯链在外场下的配分函数, \n"
   ]
  },
  {
   "cell_type": "markdown",
   "metadata": {},
   "source": [
    "$\\mathrm d{\\mathbf{s}}$ 表示面积微元, 自由能函数的一阶变分,　将到处下面自洽场方程, \n",
    "\n",
    "$$\n",
    "\\phi_A\\mathbf(s) +\\phi_B\\mathbf(s) -1 = 0\\quad(1)\n",
    "$$\n",
    "\n",
    "$$\n",
    "\n",
    "$$\n"
   ]
  },
  {
   "cell_type": "markdown",
   "metadata": {},
   "source": [
    "## 自洽场模型"
   ]
  },
  {
   "cell_type": "markdown",
   "metadata": {},
   "source": [
    "### 符号说明"
   ]
  },
  {
   "cell_type": "markdown",
   "metadata": {},
   "source": [
    "|符号|意义|\n",
    "|:-----:|:-----:|\n",
    "|$n$|$n$ 个共聚物分子|\n",
    "|$N$|聚合度|\n",
    "|$f_A$|$A$ 嵌段的体积分数|\n",
    "|$\\chi$|两种单体之间的 Flory-Huggins 相互作用系数|\n",
    "|k_B|玻尔兹曼常数|\n",
    "|T|系统的温度 |\n"
   ]
  },
  {
   "cell_type": "markdown",
   "metadata": {},
   "source": [
    "**聚合物:**高分子聚合物包括均聚物和聚合物. 均聚物是一种单体形成的聚合物; 共聚物是由两种或多种不同的单体按照一定的排列方式构成的, 而共聚物按照单体的不同排列方式, 可以分为无规则共聚物, 嵌段共聚物等模型, 其中嵌段共聚物则是由性质不同的**单体块**聚合而成, 各单体块中的 \"单体\" 性质也是不同的, 按照组成成分, 嵌段共聚物的不同种类的单体数量可分为两嵌段(diblock), 三嵌段 (triblock), 四嵌段 (tetrablock)等, 而根据分子链的拓扑型特点又分为线形(linear),星形(star) 和梳形(comb).\n",
    "\n",
    "**聚合度:** 高分子是由单体通过聚合反应连接而成的, 高分子链中重量结构单元的数目称为聚合度."
   ]
  },
  {
   "cell_type": "code",
   "execution_count": null,
   "metadata": {
    "collapsed": true
   },
   "outputs": [],
   "source": []
  }
 ],
 "metadata": {
  "kernelspec": {
   "display_name": "Python 3",
   "language": "python",
   "name": "python3"
  },
  "language_info": {
   "codemirror_mode": {
    "name": "ipython",
    "version": 3
   },
   "file_extension": ".py",
   "mimetype": "text/x-python",
   "name": "python",
   "nbconvert_exporter": "python",
   "pygments_lexer": "ipython3",
   "version": "3.5.2"
  }
 },
 "nbformat": 4,
 "nbformat_minor": 2
}
